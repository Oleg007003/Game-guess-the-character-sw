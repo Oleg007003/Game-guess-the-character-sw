{
  "nbformat": 4,
  "nbformat_minor": 0,
  "metadata": {
    "colab": {
      "name": "Game-guess-the-character.ipynb",
      "provenance": [],
      "collapsed_sections": [],
      "include_colab_link": true
    },
    "kernelspec": {
      "name": "python3",
      "display_name": "Python 3"
    }
  },
  "cells": [
    {
      "cell_type": "markdown",
      "metadata": {
        "id": "view-in-github",
        "colab_type": "text"
      },
      "source": [
        "<a href=\"https://colab.research.google.com/github/Oleg007003/Game-guess-the-character-sw/blob/main/Game_guess_the_character.ipynb\" target=\"_parent\"><img src=\"https://colab.research.google.com/assets/colab-badge.svg\" alt=\"Open In Colab\"/></a>"
      ]
    },
    {
      "cell_type": "code",
      "metadata": {
        "id": "y717PWz2Jmkw"
      },
      "source": [
        "import nltk\n",
        "import csv\n",
        "import random\n",
        "import numpy as np\n",
        "import pandas as pd\n",
        "from nltk.tokenize import sent_tokenize\n",
        "import nltk\n",
        "from nltk.tokenize import word_tokenize\n",
        "import string\n",
        "import nltk\n",
        "from nltk.corpus import stopwords"
      ],
      "execution_count": null,
      "outputs": []
    },
    {
      "cell_type": "code",
      "metadata": {
        "colab": {
          "base_uri": "https://localhost:8080/",
          "height": 229
        },
        "id": "OouLe9pGJ4Uf",
        "outputId": "b207fdc2-d42c-4ffe-e9f9-f3da4b295cf0"
      },
      "source": [
        "#Объединяю даты в одну большую\n",
        "df_ep4 = pd.read_csv('/content/SW_EpisodeIV.txt', sep =' ', header=0, escapechar='\\\\')\n",
        "df_ep5 = pd.read_csv('/content/SW_EpisodeV.txt', sep =' ', header=0, escapechar='\\\\')\n",
        "df_ep6 = pd.read_csv('/content/SW_EpisodeVI.txt', sep =' ', header=0, escapechar='\\\\')\n",
        "data = pd.concat([df_ep4,df_ep5,df_ep6],axis = 0)\n",
        "nltk.download('stopwords')\n",
        "data.head()"
      ],
      "execution_count": null,
      "outputs": [
        {
          "output_type": "stream",
          "text": [
            "[nltk_data] Downloading package stopwords to /root/nltk_data...\n",
            "[nltk_data]   Package stopwords is already up-to-date!\n"
          ],
          "name": "stdout"
        },
        {
          "output_type": "execute_result",
          "data": {
            "text/html": [
              "<div>\n",
              "<style scoped>\n",
              "    .dataframe tbody tr th:only-of-type {\n",
              "        vertical-align: middle;\n",
              "    }\n",
              "\n",
              "    .dataframe tbody tr th {\n",
              "        vertical-align: top;\n",
              "    }\n",
              "\n",
              "    .dataframe thead th {\n",
              "        text-align: right;\n",
              "    }\n",
              "</style>\n",
              "<table border=\"1\" class=\"dataframe\">\n",
              "  <thead>\n",
              "    <tr style=\"text-align: right;\">\n",
              "      <th></th>\n",
              "      <th>character</th>\n",
              "      <th>dialogue</th>\n",
              "    </tr>\n",
              "  </thead>\n",
              "  <tbody>\n",
              "    <tr>\n",
              "      <th>1</th>\n",
              "      <td>THREEPIO</td>\n",
              "      <td>Did you hear that?  They've shut down the main...</td>\n",
              "    </tr>\n",
              "    <tr>\n",
              "      <th>2</th>\n",
              "      <td>THREEPIO</td>\n",
              "      <td>We're doomed!</td>\n",
              "    </tr>\n",
              "    <tr>\n",
              "      <th>3</th>\n",
              "      <td>THREEPIO</td>\n",
              "      <td>There'll be no escape for the Princess this time.</td>\n",
              "    </tr>\n",
              "    <tr>\n",
              "      <th>4</th>\n",
              "      <td>THREEPIO</td>\n",
              "      <td>What's that?</td>\n",
              "    </tr>\n",
              "    <tr>\n",
              "      <th>5</th>\n",
              "      <td>THREEPIO</td>\n",
              "      <td>I should have known better than to trust the l...</td>\n",
              "    </tr>\n",
              "  </tbody>\n",
              "</table>\n",
              "</div>"
            ],
            "text/plain": [
              "  character                                           dialogue\n",
              "1  THREEPIO  Did you hear that?  They've shut down the main...\n",
              "2  THREEPIO                                      We're doomed!\n",
              "3  THREEPIO  There'll be no escape for the Princess this time.\n",
              "4  THREEPIO                                       What's that?\n",
              "5  THREEPIO  I should have known better than to trust the l..."
            ]
          },
          "metadata": {
            "tags": []
          },
          "execution_count": 219
        }
      ]
    },
    {
      "cell_type": "code",
      "metadata": {
        "colab": {
          "base_uri": "https://localhost:8080/"
        },
        "id": "8lKc1x9_oUEV",
        "outputId": "9d92afdf-39e2-4e4a-b965-ed88fb98b2fb"
      },
      "source": [
        "stopwords.words('english')\n",
        "print(stopwords.words() [620:680])"
      ],
      "execution_count": null,
      "outputs": [
        {
          "output_type": "stream",
          "text": [
            "['your', 'yours', 'yourself', 'yourselves', 'he', 'him', 'his', 'himself', 'she', \"she's\", 'her', 'hers', 'herself', 'it', \"it's\", 'its', 'itself', 'they', 'them', 'their', 'theirs', 'themselves', 'what', 'which', 'who', 'whom', 'this', 'that', \"that'll\", 'these', 'those', 'am', 'is', 'are', 'was', 'were', 'be', 'been', 'being', 'have', 'has', 'had', 'having', 'do', 'does', 'did', 'doing', 'a', 'an', 'the', 'and', 'but', 'if', 'or', 'because', 'as', 'until', 'while', 'of', 'at']\n"
          ],
          "name": "stdout"
        }
      ]
    },
    {
      "cell_type": "code",
      "metadata": {
        "id": "YzIl9N-rqD4c"
      },
      "source": [
        "stop_words = set(stopwords.words('english'))\n",
        "stop_words.add(\"n't\")\n",
        "stop_words.add(\"'m\")\n",
        "stop_words.add(\"'s\")\n",
        "stop_words.add(\"'ll\")\n",
        "stop_words.add(\"'ve\")\n",
        "stop_words.add(\"'re\")\n",
        "stop_words.add(\"ca\")"
      ],
      "execution_count": null,
      "outputs": []
    },
    {
      "cell_type": "code",
      "metadata": {
        "id": "V1nMwXKxXWK3"
      },
      "source": [
        "#Тут я делю на биграммы текст, затем создаю словарь словарей формата:\n",
        "    #charect[персонаж][реплика] = количество, сколько он это сказал\n",
        "\n",
        "charect = {}\n",
        "for index, row in data.iterrows():\n",
        "  # print(row[0], row[1])\n",
        "  #bigrams = [b for l in [row[1]] for b in zip(l.split(\" \")[:-1], l.split(\" \")[1:])]\n",
        "  tmp = str(row[1])\n",
        "  tmp = tmp.replace(',', ' ')\n",
        "  tmp = tmp.replace('.', ' ')\n",
        "  tmp = tmp.replace('!', ' ')\n",
        "  tmp = tmp.replace('?', ' ')\n",
        "  tmp = tmp.replace('  ', ' ')\n",
        "  nltk_tokens = nltk.word_tokenize(tmp)  \n",
        "  filtered_sentence = [w for w in nltk_tokens if not w in stop_words]\n",
        "  bigrams = list(nltk.bigrams(filtered_sentence))\n",
        "  # print(bigrams[0])\n",
        "  txt = []\n",
        "  for i in bigrams:\n",
        "    txt.append(i[0] + ' ' +i[1])\n",
        "  # print(txt)\n",
        "  if row[0] not in charect:\n",
        "    charect[row[0]] = {}\n",
        "  for i in txt:\n",
        "    if i not in charect[row[0]]:\n",
        "      charect[row[0]][i] = 0\n",
        "    charect[row[0]][i] += 1"
      ],
      "execution_count": null,
      "outputs": []
    },
    {
      "cell_type": "code",
      "metadata": {
        "colab": {
          "base_uri": "https://localhost:8080/"
        },
        "id": "-Pf_GS1vWuzi",
        "outputId": "b9d0e099-64bc-4e1e-b15e-41c52ad4fc3d"
      },
      "source": [
        "#Теперь я для каждого героя получаю отсорченный список его фраз, по факту\n",
        "   #уже все готово, осталось только биграмму впихнуть\n",
        "quest = {}\n",
        "for i in charect:\n",
        "  quest[i] = sorted(charect[i])\n",
        "  #print(charect[i])\n",
        "  lst = []\n",
        "  for k in charect[i]:\n",
        "    lst.append((charect[i][k], k))\n",
        "  #print(sorted(lst))\n",
        "  quest[i] = sorted(lst, reverse=True)\n",
        "quest['MAN'][:10]"
      ],
      "execution_count": null,
      "outputs": [
        {
          "output_type": "execute_result",
          "data": {
            "text/plain": [
              "[(2, 'troops man'),\n",
              " (2, 'man stations'),\n",
              " (2, 'flight troops'),\n",
              " (2, 'All flight'),\n",
              " (1, 'stations All')]"
            ]
          },
          "metadata": {
            "tags": []
          },
          "execution_count": 268
        }
      ]
    },
    {
      "cell_type": "code",
      "metadata": {
        "colab": {
          "base_uri": "https://localhost:8080/"
        },
        "id": "PzPGFuVVskjQ",
        "outputId": "b6aa30d6-2e75-4105-93e6-d69f9bed3641"
      },
      "source": [
        "for i in quest:\n",
        "  print(i)"
      ],
      "execution_count": null,
      "outputs": [
        {
          "output_type": "stream",
          "text": [
            "THREEPIO\n",
            "LUKE\n",
            "IMPERIAL OFFICER\n",
            "VADER\n",
            "REBEL OFFICER\n",
            "TROOPER\n",
            "CHIEF PILOT\n",
            "CAPTAIN\n",
            "WOMAN\n",
            "FIXER\n",
            "CAMIE\n",
            "BIGGS\n",
            "DEAK\n",
            "LEIA\n",
            "COMMANDER\n",
            "SECOND OFFICER\n",
            "FIRST TROOPER\n",
            "SECOND TROOPER\n",
            "BERU\n",
            "OWEN\n",
            "AUNT BERU\n",
            "BEN\n",
            "TAGGE\n",
            "MOTTI\n",
            "TARKIN\n",
            "BARTENDER\n",
            "CREATURE\n",
            "HUMAN\n",
            "HAN\n",
            "GREEDO\n",
            "JABBA\n",
            "OFFICER CASS\n",
            "VOICE OVER DEATH STAR INTERCOM\n",
            "OFFICER\n",
            "VOICE\n",
            "GANTRY OFFICER\n",
            "INTERCOM VOICE\n",
            "TROOPER VOICE\n",
            "FIRST OFFICER\n",
            "WILLARD\n",
            "DEATH STAR INTERCOM VOICE\n",
            "DODONNA\n",
            "GOLD LEADER\n",
            "WEDGE\n",
            "MAN\n",
            "RED LEADER\n",
            "CHIEF\n",
            "MASSASSI INTERCOM VOICE\n",
            "RED TEN\n",
            "RED SEVEN\n",
            "PORKINS\n",
            "RED NINE\n",
            "RED ELEVEN\n",
            "ASTRO-OFFICER\n",
            "CONTROL OFFICER\n",
            "GOLD FIVE\n",
            "GOLD TWO\n",
            "WINGMAN\n",
            "BASE VOICE\n",
            "TECHNICIAN\n",
            "RIEEKAN\n",
            "DECK OFFICER\n",
            "ASSISTANT OFFICER\n",
            "LIEUTENANT\n",
            "DERLIN\n",
            "ZEV\n",
            "ANNOUNCER\n",
            "SENIOR CONTROLLER\n",
            "PIETT\n",
            "OZZEL\n",
            "REBEL CAPTAIN\n",
            "REBEL FIGHTER\n",
            "MEDICAL DROID\n",
            "CONTROLLER\n",
            "VEERS\n",
            "HOBBIE\n",
            "PILOTS\n",
            "WOMAN CONTROLLER\n",
            "DACK\n",
            "TRENCH OFFICER\n",
            "JANSON\n",
            "HEAD CONTROLLER\n",
            "PILOT\n",
            "STRANGE VOICE\n",
            "NEEDA\n",
            "EMPEROR\n",
            "YODA\n",
            "FIRST CONTROLLER\n",
            "SECOND CONTROLLER\n",
            "BOBA FETT\n",
            "TRACKING OFFICER\n",
            "COMMUNICATIONS OFFICER\n",
            "LANDO\n",
            "SECOND THREEPIO\n",
            "IMPERIAL SOLDIER\n",
            "SHUTTLE CAPTAIN\n",
            "DEATH STAR CONTROLLER\n",
            "OPERATOR\n",
            "JERJERROD\n",
            "BIB\n",
            "NINEDENINE\n",
            "OOLA\n",
            "BOUSHH\n",
            "MON MOTHMA\n",
            "ACKBAR\n",
            "GENERAL MADINE\n",
            "PILOT VOICE\n",
            "SCOUT #1\n",
            "SCOUT #l\n",
            "SCOUT #2\n",
            "GUARD\n",
            "HAN and LUKE\n",
            "SCOUT\n",
            "GRAY LEADER\n",
            "GREEN LEADER\n",
            "REBEL PILOT\n",
            "STORMTROOPER\n",
            "BUNKER COMMANDER\n",
            "RED TWO\n",
            "RED THREE\n",
            "NAVIGATOR\n",
            "Y-WING PILOT\n",
            "WALKER PILOT #1\n",
            "PILOT #2\n",
            "HAN/PILOT\n",
            "CONTROL ROOM COMMANDER\n",
            "SECOND COMMANDER\n",
            "LURE\n",
            "ANAKIN\n"
          ],
          "name": "stdout"
        }
      ]
    },
    {
      "cell_type": "code",
      "metadata": {
        "colab": {
          "base_uri": "https://localhost:8080/"
        },
        "id": "cbYUpW92gc4d",
        "outputId": "e504733b-c99d-457a-87cb-cc1034cdbb34"
      },
      "source": [
        "#Штука, которая должна решить проблему, но она не решает. Решила!!!\n",
        "   #Лучше оставить её здесь, а то вдруг без этого работать не будет\n",
        "import nltk\n",
        "nltk.download('punkt')"
      ],
      "execution_count": null,
      "outputs": [
        {
          "output_type": "stream",
          "text": [
            "[nltk_data] Downloading package punkt to /root/nltk_data...\n",
            "[nltk_data]   Package punkt is already up-to-date!\n"
          ],
          "name": "stdout"
        },
        {
          "output_type": "execute_result",
          "data": {
            "text/plain": [
              "True"
            ]
          },
          "metadata": {
            "tags": []
          },
          "execution_count": 161
        }
      ]
    },
    {
      "cell_type": "code",
      "metadata": {
        "colab": {
          "base_uri": "https://localhost:8080/"
        },
        "id": "MXp8Oa6zi9cZ",
        "outputId": "6f408176-5dc9-4931-90cf-befb71858b21"
      },
      "source": [
        "#Теперь, собственно, игра\n",
        "names = []\n",
        "for i in quest:\n",
        "  names.append(i)\n",
        "a = random.choice(names)\n",
        "ans = random.choices(quest[a][:3])\n",
        "print(ans[0][1])\n",
        "#print(a)\n",
        "res = str(input())\n",
        "if res == a:\n",
        "  print(\"Dude, you're a genius\")\n",
        "else:\n",
        "  print(\"You've been kicked out of the geek club\")"
      ],
      "execution_count": null,
      "outputs": [
        {
          "output_type": "stream",
          "text": [
            "you to\n",
            "OWEN\n",
            "OWEN\n",
            "Dude, you're a genius\n"
          ],
          "name": "stdout"
        }
      ]
    },
    {
      "cell_type": "code",
      "metadata": {
        "colab": {
          "base_uri": "https://localhost:8080/"
        },
        "id": "hrG3giLzkeq0",
        "outputId": "47d3e159-532a-4ef4-911c-2d1c91d29bde"
      },
      "source": [
        "#Версия к задаче 8\n",
        "names = []\n",
        "for i in quest:\n",
        "  names.append(i)\n",
        "\n",
        "all = 0\n",
        "right = 0\n",
        "\n",
        "while True:  \n",
        "  all += 1\n",
        "  print(\"Do you want to guess some character from some children's movie and then think that you are cool?\")\n",
        "  ans = str(input())\n",
        "  if ans == 'NO':\n",
        "    break\n",
        "  a = random.choice(names)\n",
        "  ans = random.choices(quest[a][:3])\n",
        "  print(ans[0][1])\n",
        "  print(a)\n",
        "\n",
        "  cnt = 5\n",
        "  while cnt > 0:\n",
        "    res = str(input())\n",
        "    if res == a:\n",
        "      print(\"Dude, you're a genius, you're store:\", cnt / 5  * 100, '%')\n",
        "      all += 1\n",
        "      break\n",
        "    else:\n",
        "      print(\"No, you fool. You have\", cnt - 1, \"attempts left\")\n",
        "      cnt -= 1\n",
        "  if cnt == 0:\n",
        "    \"Dude, I'm ashamed to talk to you after this, you're wrong. 0% correct\"\n",
        "print(\"You're fast, cowboy. So, your result: \", right / all * 100, '%')"
      ],
      "execution_count": null,
      "outputs": [
        {
          "output_type": "stream",
          "text": [
            "Do you want to guess some character from some children's movie and then think that you are cool?\n",
            "NO\n",
            "You're fast, cowboy. So, your result:  0.0 %\n"
          ],
          "name": "stdout"
        }
      ]
    },
    {
      "cell_type": "code",
      "metadata": {
        "id": "7xNyuOGjlNia"
      },
      "source": [
        "#Задача 9\n",
        "renames = {\"THREEPIO\": \"C-3PO\", \"LUKE\": \"Luke Skywalker\", \"LEIA\":\"Leia Organa\", \"VADER\":\"Darth Vader\", \"HAN\":\"Han Solo\", \"YODA\":\"Yoda\"}\n",
        "names = []\n",
        "for i in renames:\n",
        "  names.append(i)\n",
        "facts = pd.read_csv('/content/characters.csv')\n",
        "all = 0\n",
        "right = 0\n",
        "\n",
        "while True:  \n",
        "  all += 1\n",
        "  print(\"Do you want to guess some character from some children's movie and then think that you are cool?\")\n",
        "  ans = str(input())\n",
        "  if ans == 'NO':\n",
        "    break\n",
        "  hero = random.choice(names)\n",
        "  ans = random.choices(quest[hero][:3])\n",
        "  heros_facts = facts[facts['name'] == renames[hero]]\n",
        "  print(ans[0][1])\n",
        "  print(hero)\n",
        "\n",
        "  cnt = 5\n",
        "  while cnt > 0:\n",
        "    res = str(input())\n",
        "    if res == hero:\n",
        "      print(\"Dude, you're a genius, you're store:\", cnt / 5  * 100, '%')\n",
        "      all += 1\n",
        "      break\n",
        "    else:\n",
        "      print(\"No, you fool. You have\", cnt - 1, \"attempts left\")\n",
        "      print(\"Okay, amigo, no offense, I'm not serious, keep a hint:\")\n",
        "      info = random.choice([\"gender\", \"hair_color\", \"eye_color\", \"species\", \"hair_color\", \"height\", \"homeworld\", \"skin_color\", \"birth_year\", \"mass\"])\n",
        "      print('His', info, ':', heros_facts[info].values[0])\n",
        "      cnt -= 1\n",
        "  if cnt == 0:\n",
        "    \"Dude, I'm ashamed to talk to you after this, you're wrong. 0% correct\"\n",
        "print(\"You're fast, cowboy. So, your result: \", right / all * 100, '%')"
      ],
      "execution_count": null,
      "outputs": []
    },
    {
      "cell_type": "code",
      "metadata": {
        "id": "OUb-ncXvw0CO"
      },
      "source": [
        ""
      ],
      "execution_count": null,
      "outputs": []
    }
  ]
}